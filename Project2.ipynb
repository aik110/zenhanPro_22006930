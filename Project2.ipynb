{
 "cells": [
  {
   "cell_type": "code",
   "execution_count": null,
   "metadata": {},
   "outputs": [],
   "source": [
    "import pandas as pd\n",
    "import numpy as np\n",
    "\n",
    "\n",
    "# Load data\n",
    "pwt1001 = pd.read_stata('https://dataverse.nl/api/access/datafile/354098')\n",
    "\n",
    "# Filter and select relevant columns\n",
    "data = pwt1001.loc[pwt1001['country'].isin([\"Australia\", \"Austria\"])][['year', 'countrycode', 'rgdpna', 'rkna', 'emp', 'labsh']]\n",
    "data = data.loc[(data['year'] >= 1995) & (data['year'] <= 2019)].dropna()\n",
    "\n",
    "# Calculate additional columns\n",
    "data['y_pc'] = np.log(data['rgdpna'] / data['emp'])  # GDP per worker\n",
    "data['k_pc'] = np.log(data['rkna'] / data['emp'])  # Capital per worker\n",
    "data['a'] = 1 - data['labsh']  # Capital share\n",
    "\n",
    "# Order by year\n",
    "data = data.sort_values('year')\n",
    "\n",
    "# Group by isocode\n",
    "grouped_data = data.groupby('countrycode')\n",
    "\n",
    "# Calculate growth rates and Solow residual\n",
    "data['g'] = (grouped_data['y_pc'].diff() * 100)  # Growth rate of GDP per capita\n",
    "\n",
    "# Remove missing values\n",
    "data = data.dropna()\n",
    "\n",
    "# Calculate summary statistics\n",
    "summary = data.groupby('countrycode').agg({'g': 'mean',\n",
    "                                       'a': \"mean\"})\n",
    "\n",
    "# Calculate additional summary statistics\n",
    "summary['Growth Rate'] = summary['g']\n",
    "summary['Capital Share'] = summary['a']\n",
    "\n",
    "# Print output\n",
    "print(summary)"
   ]
  }
 ],
 "metadata": {
  "language_info": {
   "name": "python"
  },
  "orig_nbformat": 4
 },
 "nbformat": 4,
 "nbformat_minor": 2
}
